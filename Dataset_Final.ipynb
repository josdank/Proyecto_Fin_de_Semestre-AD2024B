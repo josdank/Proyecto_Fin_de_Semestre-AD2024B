{
 "cells": [
  {
   "cell_type": "code",
   "execution_count": 156,
   "metadata": {},
   "outputs": [],
   "source": [
    "import pandas as pd\n",
    "import pyodbc"
   ]
  },
  {
   "cell_type": "code",
   "execution_count": 198,
   "metadata": {},
   "outputs": [],
   "source": [
    "restaurante_path = \"Restaurantes_base.csv\"\n",
    "hobbies_path = \"Sports_and_Outdoors_5.csv\"\n",
    "steam_reviews_path = \"steam_reviews.csv\"\n",
    "nba_data_path1 = \"game.csv\"\n",
    "nba_data_path2 = \"inactive_players.csv\"\n",
    "conciertos_path = \"final_combined_dataframe.csv\""
   ]
  },
  {
   "cell_type": "code",
   "execution_count": 199,
   "metadata": {},
   "outputs": [],
   "source": [
    "def read_csv(df_path):\n",
    "    try:\n",
    "        data = pd.read_csv(df_path, encoding='latin1', on_bad_lines='skip')\n",
    "        return data\n",
    "    except FileNotFoundError:\n",
    "        print(\"Archivo no encontrado\")\n",
    "        return None\n",
    "    except Exception as e:\n",
    "        print(f\"Error al leer archivo: {e}\")\n",
    "        return None"
   ]
  },
  {
   "cell_type": "code",
   "execution_count": 200,
   "metadata": {},
   "outputs": [],
   "source": [
    "def read_json(path):\n",
    "    try:\n",
    "        data = pd.read_json(path, lines=False)\n",
    "        return data\n",
    "    except FileNotFoundError:\n",
    "        print(f\"File {path} not found\")\n",
    "    except ValueError as e:\n",
    "        print(f\"ValueError: {e}\")"
   ]
  },
  {
   "cell_type": "code",
   "execution_count": 208,
   "metadata": {},
   "outputs": [
    {
     "name": "stdout",
     "output_type": "stream",
     "text": [
      "202063\n"
     ]
    },
    {
     "name": "stderr",
     "output_type": "stream",
     "text": [
      "C:\\Users\\Keepc\\AppData\\Local\\Temp\\ipykernel_5984\\2988551617.py:3: DtypeWarning: Columns (4) have mixed types. Specify dtype option on import or set low_memory=False.\n",
      "  data = pd.read_csv(df_path, encoding='latin1', on_bad_lines='skip')\n"
     ]
    }
   ],
   "source": [
    "df_restaurante = read_csv(restaurante_path)\n",
    "print(len(df_restaurante))"
   ]
  },
  {
   "cell_type": "code",
   "execution_count": 209,
   "metadata": {},
   "outputs": [
    {
     "name": "stdout",
     "output_type": "stream",
     "text": [
      "286557\n"
     ]
    }
   ],
   "source": [
    "df_hobbies = read_csv(hobbies_path)\n",
    "print(len(df_hobbies))"
   ]
  },
  {
   "cell_type": "code",
   "execution_count": 210,
   "metadata": {},
   "outputs": [
    {
     "name": "stdout",
     "output_type": "stream",
     "text": [
      "203111\n"
     ]
    }
   ],
   "source": [
    "df_steam = read_csv(steam_reviews_path)\n",
    "print(len(df_steam))"
   ]
  },
  {
   "cell_type": "code",
   "execution_count": 211,
   "metadata": {},
   "outputs": [
    {
     "name": "stdout",
     "output_type": "stream",
     "text": [
      "175889\n"
     ]
    }
   ],
   "source": [
    "df_nba1 = read_csv(nba_data_path1)\n",
    "df_nba2 = read_csv(nba_data_path2)\n",
    "\n",
    "df_nba = pd.concat([df_nba1, df_nba2], axis=0, ignore_index=True)\n",
    "print(len(df_nba))"
   ]
  },
  {
   "cell_type": "code",
   "execution_count": 212,
   "metadata": {},
   "outputs": [
    {
     "name": "stderr",
     "output_type": "stream",
     "text": [
      "C:\\Users\\Keepc\\AppData\\Local\\Temp\\ipykernel_5984\\2988551617.py:3: DtypeWarning: Columns (16,17,18,48,49,50,64,65,66,80,81,82,84,85,126,130,131,132,133,134,137,140) have mixed types. Specify dtype option on import or set low_memory=False.\n",
      "  data = pd.read_csv(df_path, encoding='latin1', on_bad_lines='skip')\n"
     ]
    },
    {
     "name": "stdout",
     "output_type": "stream",
     "text": [
      "295941\n"
     ]
    }
   ],
   "source": [
    "df_conciertos = read_csv(conciertos_path)\n",
    "print(len(df_conciertos))"
   ]
  },
  {
   "cell_type": "code",
   "execution_count": 213,
   "metadata": {},
   "outputs": [],
   "source": [
    "conexion_str = \"DRIVER={ODBC Driver 17 for SQL Server};SERVER=ADRIAN\\\\MSSQLSERVER01;DATABASE=datasets_analisis;Trusted_Connection=yes;\"\n",
    "conexion = pyodbc.connect(conexion_str)"
   ]
  },
  {
   "cell_type": "code",
   "execution_count": 214,
   "metadata": {},
   "outputs": [],
   "source": [
    "def guardar_sqlserver(df, nombre_tabla):\n",
    "\n",
    "    cursor = conexion.cursor()\n",
    "    columnas = \", \".join([f\"[{col}] NVARCHAR(MAX)\" for col in df.columns])\n",
    "    create_table_query = f\"IF OBJECT_ID('{nombre_tabla}', 'U') IS NULL CREATE TABLE {nombre_tabla} ({columnas})\"\n",
    "    \n",
    "    cursor.execute(create_table_query)\n",
    "    \n",
    "    conexion.commit()\n",
    "    \n",
    "    for _, row in df.iterrows():\n",
    "        valores = \"', '\".join(str(x).replace(\"'\", \"''\") for x in row.values)\n",
    "        insert_query = f\"INSERT INTO {nombre_tabla} VALUES ('{valores}')\"\n",
    "\n",
    "        cursor.execute(insert_query)\n",
    "        \n",
    "    conexion.commit()\n",
    "    print(f\"Datos guardados en la tabla {nombre_tabla}\")\n",
    "    \n",
    "    cursor.close()  "
   ]
  },
  {
   "cell_type": "code",
   "execution_count": 215,
   "metadata": {},
   "outputs": [
    {
     "name": "stdout",
     "output_type": "stream",
     "text": [
      "Datos guardados en la tabla datos_nba\n"
     ]
    }
   ],
   "source": [
    "guardar_sqlserver(df_nba, \"datos_nba\")"
   ]
  },
  {
   "cell_type": "code",
   "execution_count": 216,
   "metadata": {},
   "outputs": [
    {
     "name": "stdout",
     "output_type": "stream",
     "text": [
      "Datos guardados en la tabla datos_restaurantes\n"
     ]
    }
   ],
   "source": [
    "guardar_sqlserver(df_restaurante, \"datos_restaurantes\")"
   ]
  },
  {
   "cell_type": "code",
   "execution_count": 217,
   "metadata": {},
   "outputs": [
    {
     "name": "stdout",
     "output_type": "stream",
     "text": [
      "Datos guardados en la tabla datos_hobbies\n"
     ]
    }
   ],
   "source": [
    "guardar_sqlserver(df_hobbies, \"datos_hobbies\")"
   ]
  },
  {
   "cell_type": "code",
   "execution_count": 228,
   "metadata": {},
   "outputs": [
    {
     "name": "stdout",
     "output_type": "stream",
     "text": [
      "Index(['_id', 'unnamed: 0', 'game_id', 'period_id', 'time_seconds', 'team_id',\n",
      "       'player_id', 'start_x', 'start_y', 'end_x',\n",
      "       ...\n",
      "       'weight', 'currentteamid', 'birthdate', 'height', 'role', 'birtharea',\n",
      "       'wyid', 'foot', 'shortname', 'currentnationalteamid'],\n",
      "      dtype='object', length=153)\n"
     ]
    }
   ],
   "source": [
    "# Normalizar nombres de columnas\n",
    "df_conciertos.columns = df_conciertos.columns.str.strip().str.lower()\n",
    "\n",
    "# Eliminar columnas duplicadas completamente (con nombres normalizados)\n",
    "df_conciertos = df_conciertos.loc[:, ~df_conciertos.columns.duplicated()]\n",
    "\n",
    "print(df_conciertos.columns)\n"
   ]
  },
  {
   "cell_type": "code",
   "execution_count": 229,
   "metadata": {},
   "outputs": [
    {
     "name": "stdout",
     "output_type": "stream",
     "text": [
      "Datos guardados en la tabla datos_conciertos\n"
     ]
    }
   ],
   "source": [
    "guardar_sqlserver(df_conciertos, \"datos_conciertos\")"
   ]
  },
  {
   "cell_type": "code",
   "execution_count": 219,
   "metadata": {},
   "outputs": [
    {
     "name": "stdout",
     "output_type": "stream",
     "text": [
      "Datos guardados en la tabla datos_steam\n"
     ]
    }
   ],
   "source": [
    "guardar_sqlserver(df_steam, \"datos_steam\")"
   ]
  },
  {
   "cell_type": "code",
   "execution_count": 232,
   "metadata": {},
   "outputs": [
    {
     "name": "stdout",
     "output_type": "stream",
     "text": [
      "Total datos NBA: 175889\n",
      "Total datos restaurantes: 202063\n",
      "Total datos hobbies: 286557\n",
      "Total datos steam: 203111\n",
      "Total datos steam: 295941\n",
      "Total datos: 1163561\n"
     ]
    }
   ],
   "source": [
    "df_unificado = pd.concat([df_restaurante, df_nba, df_hobbies, df_conciertos, df_steam], axis=0, ignore_index=True)\n",
    "print(f\"Total datos NBA: {len(df_nba)}\")\n",
    "print(f\"Total datos restaurantes: {len(df_restaurante)}\")\n",
    "print(f\"Total datos hobbies: {len(df_hobbies)}\")\n",
    "print(f\"Total datos steam: {len(df_steam)}\")\n",
    "print(f\"Total datos steam: {len(df_conciertos)}\")\n",
    "print(f\"Total datos: {len(df_unificado)}\")"
   ]
  },
  {
   "cell_type": "code",
   "execution_count": 233,
   "metadata": {},
   "outputs": [
    {
     "data": {
      "text/html": [
       "<div>\n",
       "<style scoped>\n",
       "    .dataframe tbody tr th:only-of-type {\n",
       "        vertical-align: middle;\n",
       "    }\n",
       "\n",
       "    .dataframe tbody tr th {\n",
       "        vertical-align: top;\n",
       "    }\n",
       "\n",
       "    .dataframe thead th {\n",
       "        text-align: right;\n",
       "    }\n",
       "</style>\n",
       "<table border=\"1\" class=\"dataframe\">\n",
       "  <thead>\n",
       "    <tr style=\"text-align: right;\">\n",
       "      <th></th>\n",
       "      <th>name</th>\n",
       "      <th>address</th>\n",
       "      <th>city</th>\n",
       "      <th>state</th>\n",
       "      <th>postal_code</th>\n",
       "      <th>latitude</th>\n",
       "      <th>longitude</th>\n",
       "      <th>stars</th>\n",
       "      <th>review_count</th>\n",
       "      <th>is_open</th>\n",
       "      <th>...</th>\n",
       "      <th>shortname</th>\n",
       "      <th>currentnationalteamid</th>\n",
       "      <th>app_id</th>\n",
       "      <th>app_name</th>\n",
       "      <th>review_text</th>\n",
       "      <th>review_score</th>\n",
       "      <th>review_votes</th>\n",
       "      <th>source_collection</th>\n",
       "      <th>Polaridad</th>\n",
       "      <th>Sentimiento</th>\n",
       "    </tr>\n",
       "  </thead>\n",
       "  <tbody>\n",
       "    <tr>\n",
       "      <th>1163461</th>\n",
       "      <td>NaN</td>\n",
       "      <td>NaN</td>\n",
       "      <td>NaN</td>\n",
       "      <td>NaN</td>\n",
       "      <td>NaN</td>\n",
       "      <td>NaN</td>\n",
       "      <td>NaN</td>\n",
       "      <td>NaN</td>\n",
       "      <td>NaN</td>\n",
       "      <td>NaN</td>\n",
       "      <td>...</td>\n",
       "      <td>NaN</td>\n",
       "      <td>NaN</td>\n",
       "      <td>550.0</td>\n",
       "      <td>Left 4 Dead 2</td>\n",
       "      <td>When I buy a game, I expect it to f**cking wor...</td>\n",
       "      <td>-1.0</td>\n",
       "      <td>0.0</td>\n",
       "      <td>l4d2_reviews</td>\n",
       "      <td>-0.9030</td>\n",
       "      <td>Negativo</td>\n",
       "    </tr>\n",
       "    <tr>\n",
       "      <th>1163462</th>\n",
       "      <td>NaN</td>\n",
       "      <td>NaN</td>\n",
       "      <td>NaN</td>\n",
       "      <td>NaN</td>\n",
       "      <td>NaN</td>\n",
       "      <td>NaN</td>\n",
       "      <td>NaN</td>\n",
       "      <td>NaN</td>\n",
       "      <td>NaN</td>\n",
       "      <td>NaN</td>\n",
       "      <td>...</td>\n",
       "      <td>NaN</td>\n",
       "      <td>NaN</td>\n",
       "      <td>550.0</td>\n",
       "      <td>Left 4 Dead 2</td>\n",
       "      <td>6/10  Gameplay is fantastic whereas servers su...</td>\n",
       "      <td>-1.0</td>\n",
       "      <td>0.0</td>\n",
       "      <td>l4d2_reviews</td>\n",
       "      <td>0.7367</td>\n",
       "      <td>Positivo</td>\n",
       "    </tr>\n",
       "    <tr>\n",
       "      <th>1163463</th>\n",
       "      <td>NaN</td>\n",
       "      <td>NaN</td>\n",
       "      <td>NaN</td>\n",
       "      <td>NaN</td>\n",
       "      <td>NaN</td>\n",
       "      <td>NaN</td>\n",
       "      <td>NaN</td>\n",
       "      <td>NaN</td>\n",
       "      <td>NaN</td>\n",
       "      <td>NaN</td>\n",
       "      <td>...</td>\n",
       "      <td>NaN</td>\n",
       "      <td>NaN</td>\n",
       "      <td>550.0</td>\n",
       "      <td>Left 4 Dead 2</td>\n",
       "      <td>Nothing special just shooting and escaping.</td>\n",
       "      <td>-1.0</td>\n",
       "      <td>0.0</td>\n",
       "      <td>l4d2_reviews</td>\n",
       "      <td>-0.2635</td>\n",
       "      <td>Negativo</td>\n",
       "    </tr>\n",
       "    <tr>\n",
       "      <th>1163464</th>\n",
       "      <td>NaN</td>\n",
       "      <td>NaN</td>\n",
       "      <td>NaN</td>\n",
       "      <td>NaN</td>\n",
       "      <td>NaN</td>\n",
       "      <td>NaN</td>\n",
       "      <td>NaN</td>\n",
       "      <td>NaN</td>\n",
       "      <td>NaN</td>\n",
       "      <td>NaN</td>\n",
       "      <td>...</td>\n",
       "      <td>NaN</td>\n",
       "      <td>NaN</td>\n",
       "      <td>550.0</td>\n",
       "      <td>Left 4 Dead 2</td>\n",
       "      <td>FREE TO PLAY LEFT 4 DEAD 2 CONGRATULATIONS VALVE!</td>\n",
       "      <td>-1.0</td>\n",
       "      <td>1.0</td>\n",
       "      <td>l4d2_reviews</td>\n",
       "      <td>0.6800</td>\n",
       "      <td>Positivo</td>\n",
       "    </tr>\n",
       "    <tr>\n",
       "      <th>1163465</th>\n",
       "      <td>NaN</td>\n",
       "      <td>NaN</td>\n",
       "      <td>NaN</td>\n",
       "      <td>NaN</td>\n",
       "      <td>NaN</td>\n",
       "      <td>NaN</td>\n",
       "      <td>NaN</td>\n",
       "      <td>NaN</td>\n",
       "      <td>NaN</td>\n",
       "      <td>NaN</td>\n",
       "      <td>...</td>\n",
       "      <td>NaN</td>\n",
       "      <td>NaN</td>\n",
       "      <td>550.0</td>\n",
       "      <td>Left 4 Dead 2</td>\n",
       "      <td>This game got boring pretty fast. I would not ...</td>\n",
       "      <td>-1.0</td>\n",
       "      <td>0.0</td>\n",
       "      <td>l4d2_reviews</td>\n",
       "      <td>-0.0351</td>\n",
       "      <td>Neutral</td>\n",
       "    </tr>\n",
       "    <tr>\n",
       "      <th>...</th>\n",
       "      <td>...</td>\n",
       "      <td>...</td>\n",
       "      <td>...</td>\n",
       "      <td>...</td>\n",
       "      <td>...</td>\n",
       "      <td>...</td>\n",
       "      <td>...</td>\n",
       "      <td>...</td>\n",
       "      <td>...</td>\n",
       "      <td>...</td>\n",
       "      <td>...</td>\n",
       "      <td>...</td>\n",
       "      <td>...</td>\n",
       "      <td>...</td>\n",
       "      <td>...</td>\n",
       "      <td>...</td>\n",
       "      <td>...</td>\n",
       "      <td>...</td>\n",
       "      <td>...</td>\n",
       "      <td>...</td>\n",
       "      <td>...</td>\n",
       "    </tr>\n",
       "    <tr>\n",
       "      <th>1163556</th>\n",
       "      <td>NaN</td>\n",
       "      <td>NaN</td>\n",
       "      <td>NaN</td>\n",
       "      <td>NaN</td>\n",
       "      <td>NaN</td>\n",
       "      <td>NaN</td>\n",
       "      <td>NaN</td>\n",
       "      <td>NaN</td>\n",
       "      <td>NaN</td>\n",
       "      <td>NaN</td>\n",
       "      <td>...</td>\n",
       "      <td>NaN</td>\n",
       "      <td>NaN</td>\n",
       "      <td>550.0</td>\n",
       "      <td>Left 4 Dead 2</td>\n",
       "      <td>Screensick (ï¼¾ï½ï¼¾)</td>\n",
       "      <td>-1.0</td>\n",
       "      <td>0.0</td>\n",
       "      <td>l4d2_reviews</td>\n",
       "      <td>0.0000</td>\n",
       "      <td>Neutral</td>\n",
       "    </tr>\n",
       "    <tr>\n",
       "      <th>1163557</th>\n",
       "      <td>NaN</td>\n",
       "      <td>NaN</td>\n",
       "      <td>NaN</td>\n",
       "      <td>NaN</td>\n",
       "      <td>NaN</td>\n",
       "      <td>NaN</td>\n",
       "      <td>NaN</td>\n",
       "      <td>NaN</td>\n",
       "      <td>NaN</td>\n",
       "      <td>NaN</td>\n",
       "      <td>...</td>\n",
       "      <td>NaN</td>\n",
       "      <td>NaN</td>\n",
       "      <td>550.0</td>\n",
       "      <td>Left 4 Dead 2</td>\n",
       "      <td>The online community is the most toxic I've ev...</td>\n",
       "      <td>-1.0</td>\n",
       "      <td>0.0</td>\n",
       "      <td>l4d2_reviews</td>\n",
       "      <td>0.1531</td>\n",
       "      <td>Positivo</td>\n",
       "    </tr>\n",
       "    <tr>\n",
       "      <th>1163558</th>\n",
       "      <td>NaN</td>\n",
       "      <td>NaN</td>\n",
       "      <td>NaN</td>\n",
       "      <td>NaN</td>\n",
       "      <td>NaN</td>\n",
       "      <td>NaN</td>\n",
       "      <td>NaN</td>\n",
       "      <td>NaN</td>\n",
       "      <td>NaN</td>\n",
       "      <td>NaN</td>\n",
       "      <td>...</td>\n",
       "      <td>NaN</td>\n",
       "      <td>NaN</td>\n",
       "      <td>550.0</td>\n",
       "      <td>Left 4 Dead 2</td>\n",
       "      <td>Somehow, this game doesn't do it for me. I've ...</td>\n",
       "      <td>-1.0</td>\n",
       "      <td>0.0</td>\n",
       "      <td>l4d2_reviews</td>\n",
       "      <td>0.0598</td>\n",
       "      <td>Positivo</td>\n",
       "    </tr>\n",
       "    <tr>\n",
       "      <th>1163559</th>\n",
       "      <td>NaN</td>\n",
       "      <td>NaN</td>\n",
       "      <td>NaN</td>\n",
       "      <td>NaN</td>\n",
       "      <td>NaN</td>\n",
       "      <td>NaN</td>\n",
       "      <td>NaN</td>\n",
       "      <td>NaN</td>\n",
       "      <td>NaN</td>\n",
       "      <td>NaN</td>\n",
       "      <td>...</td>\n",
       "      <td>NaN</td>\n",
       "      <td>NaN</td>\n",
       "      <td>550.0</td>\n",
       "      <td>Left 4 Dead 2</td>\n",
       "      <td>Lots of fun to play with friends, but the comm...</td>\n",
       "      <td>-1.0</td>\n",
       "      <td>0.0</td>\n",
       "      <td>l4d2_reviews</td>\n",
       "      <td>0.9811</td>\n",
       "      <td>Positivo</td>\n",
       "    </tr>\n",
       "    <tr>\n",
       "      <th>1163560</th>\n",
       "      <td>NaN</td>\n",
       "      <td>NaN</td>\n",
       "      <td>NaN</td>\n",
       "      <td>NaN</td>\n",
       "      <td>NaN</td>\n",
       "      <td>NaN</td>\n",
       "      <td>NaN</td>\n",
       "      <td>NaN</td>\n",
       "      <td>NaN</td>\n",
       "      <td>NaN</td>\n",
       "      <td>...</td>\n",
       "      <td>NaN</td>\n",
       "      <td>NaN</td>\n",
       "      <td>550.0</td>\n",
       "      <td>Left 4 Dead 2</td>\n",
       "      <td>game is great  but can u fix the â¥â¥â¥â¥i...</td>\n",
       "      <td>-1.0</td>\n",
       "      <td>0.0</td>\n",
       "      <td>l4d2_reviews</td>\n",
       "      <td>-0.7883</td>\n",
       "      <td>Negativo</td>\n",
       "    </tr>\n",
       "  </tbody>\n",
       "</table>\n",
       "<p>100 rows × 239 columns</p>\n",
       "</div>"
      ],
      "text/plain": [
       "        name address city state postal_code  latitude  longitude  stars  \\\n",
       "1163461  NaN     NaN  NaN   NaN         NaN       NaN        NaN    NaN   \n",
       "1163462  NaN     NaN  NaN   NaN         NaN       NaN        NaN    NaN   \n",
       "1163463  NaN     NaN  NaN   NaN         NaN       NaN        NaN    NaN   \n",
       "1163464  NaN     NaN  NaN   NaN         NaN       NaN        NaN    NaN   \n",
       "1163465  NaN     NaN  NaN   NaN         NaN       NaN        NaN    NaN   \n",
       "...      ...     ...  ...   ...         ...       ...        ...    ...   \n",
       "1163556  NaN     NaN  NaN   NaN         NaN       NaN        NaN    NaN   \n",
       "1163557  NaN     NaN  NaN   NaN         NaN       NaN        NaN    NaN   \n",
       "1163558  NaN     NaN  NaN   NaN         NaN       NaN        NaN    NaN   \n",
       "1163559  NaN     NaN  NaN   NaN         NaN       NaN        NaN    NaN   \n",
       "1163560  NaN     NaN  NaN   NaN         NaN       NaN        NaN    NaN   \n",
       "\n",
       "         review_count  is_open  ... shortname  currentnationalteamid  app_id  \\\n",
       "1163461           NaN      NaN  ...       NaN                    NaN   550.0   \n",
       "1163462           NaN      NaN  ...       NaN                    NaN   550.0   \n",
       "1163463           NaN      NaN  ...       NaN                    NaN   550.0   \n",
       "1163464           NaN      NaN  ...       NaN                    NaN   550.0   \n",
       "1163465           NaN      NaN  ...       NaN                    NaN   550.0   \n",
       "...               ...      ...  ...       ...                    ...     ...   \n",
       "1163556           NaN      NaN  ...       NaN                    NaN   550.0   \n",
       "1163557           NaN      NaN  ...       NaN                    NaN   550.0   \n",
       "1163558           NaN      NaN  ...       NaN                    NaN   550.0   \n",
       "1163559           NaN      NaN  ...       NaN                    NaN   550.0   \n",
       "1163560           NaN      NaN  ...       NaN                    NaN   550.0   \n",
       "\n",
       "              app_name                                        review_text  \\\n",
       "1163461  Left 4 Dead 2  When I buy a game, I expect it to f**cking wor...   \n",
       "1163462  Left 4 Dead 2  6/10  Gameplay is fantastic whereas servers su...   \n",
       "1163463  Left 4 Dead 2        Nothing special just shooting and escaping.   \n",
       "1163464  Left 4 Dead 2  FREE TO PLAY LEFT 4 DEAD 2 CONGRATULATIONS VALVE!   \n",
       "1163465  Left 4 Dead 2  This game got boring pretty fast. I would not ...   \n",
       "...                ...                                                ...   \n",
       "1163556  Left 4 Dead 2                             Screensick (ï¼¾ï½ï¼¾)   \n",
       "1163557  Left 4 Dead 2  The online community is the most toxic I've ev...   \n",
       "1163558  Left 4 Dead 2  Somehow, this game doesn't do it for me. I've ...   \n",
       "1163559  Left 4 Dead 2  Lots of fun to play with friends, but the comm...   \n",
       "1163560  Left 4 Dead 2  game is great  but can u fix the â¥â¥â¥â¥i...   \n",
       "\n",
       "         review_score review_votes source_collection Polaridad  Sentimiento  \n",
       "1163461          -1.0          0.0      l4d2_reviews   -0.9030     Negativo  \n",
       "1163462          -1.0          0.0      l4d2_reviews    0.7367     Positivo  \n",
       "1163463          -1.0          0.0      l4d2_reviews   -0.2635     Negativo  \n",
       "1163464          -1.0          1.0      l4d2_reviews    0.6800     Positivo  \n",
       "1163465          -1.0          0.0      l4d2_reviews   -0.0351      Neutral  \n",
       "...               ...          ...               ...       ...          ...  \n",
       "1163556          -1.0          0.0      l4d2_reviews    0.0000      Neutral  \n",
       "1163557          -1.0          0.0      l4d2_reviews    0.1531     Positivo  \n",
       "1163558          -1.0          0.0      l4d2_reviews    0.0598     Positivo  \n",
       "1163559          -1.0          0.0      l4d2_reviews    0.9811     Positivo  \n",
       "1163560          -1.0          0.0      l4d2_reviews   -0.7883     Negativo  \n",
       "\n",
       "[100 rows x 239 columns]"
      ]
     },
     "execution_count": 233,
     "metadata": {},
     "output_type": "execute_result"
    }
   ],
   "source": [
    "df_unificado.tail(100)"
   ]
  },
  {
   "cell_type": "code",
   "execution_count": 236,
   "metadata": {},
   "outputs": [],
   "source": [
    "df_unificado.to_csv('mi_archivo.csv', index=False)"
   ]
  }
 ],
 "metadata": {
  "kernelspec": {
   "display_name": "Python 3",
   "language": "python",
   "name": "python3"
  },
  "language_info": {
   "codemirror_mode": {
    "name": "ipython",
    "version": 3
   },
   "file_extension": ".py",
   "mimetype": "text/x-python",
   "name": "python",
   "nbconvert_exporter": "python",
   "pygments_lexer": "ipython3",
   "version": "3.13.1"
  }
 },
 "nbformat": 4,
 "nbformat_minor": 2
}
