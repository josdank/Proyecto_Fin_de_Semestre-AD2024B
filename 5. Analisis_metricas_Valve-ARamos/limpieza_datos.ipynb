{
 "cells": [
  {
   "cell_type": "code",
   "execution_count": 9,
   "metadata": {},
   "outputs": [],
   "source": [
    "import pandas as pd\n",
    "from pymongo import MongoClient as mc"
   ]
  },
  {
   "cell_type": "code",
   "execution_count": 10,
   "metadata": {},
   "outputs": [],
   "source": [
    "cliente = mc(\"mongodb://localhost:27017/\")\n",
    "db = cliente[\"steam_reviews\"]"
   ]
  },
  {
   "cell_type": "code",
   "execution_count": 11,
   "metadata": {},
   "outputs": [],
   "source": [
    "def cargar_datos(df_name):\n",
    "    try:\n",
    "        if df_name not in db.list_collection_names():\n",
    "            print(f\"La coleccion {df_name} no existe en la base de datos\")\n",
    "            return None\n",
    "        \n",
    "        data = list(db[df_name].find())\n",
    "        \n",
    "        if data:\n",
    "            df = pd.DataFrame(data)\n",
    "            return df\n",
    "        else:\n",
    "            print(f\"La coleccion {df_name} esta vacia\")\n",
    "            return None\n",
    "        \n",
    "    except Exception as e:\n",
    "        print(f\"Ocurrio un error al cargar la coleccion: {e}\")\n",
    "        return None"
   ]
  },
  {
   "cell_type": "code",
   "execution_count": 12,
   "metadata": {},
   "outputs": [],
   "source": [
    "df_name = \"reseñas_totales\"\n",
    "df = cargar_datos(df_name)"
   ]
  },
  {
   "cell_type": "code",
   "execution_count": 13,
   "metadata": {},
   "outputs": [
    {
     "name": "stdout",
     "output_type": "stream",
     "text": [
      "<class 'pandas.core.frame.DataFrame'>\n",
      "RangeIndex: 263292 entries, 0 to 263291\n",
      "Data columns (total 7 columns):\n",
      " #   Column             Non-Null Count   Dtype \n",
      "---  ------             --------------   ----- \n",
      " 0   _id                263292 non-null  object\n",
      " 1   app_id             263292 non-null  int64 \n",
      " 2   app_name           263292 non-null  object\n",
      " 3   review_text        262698 non-null  object\n",
      " 4   review_score       263292 non-null  int64 \n",
      " 5   review_votes       263292 non-null  int64 \n",
      " 6   source_collection  263292 non-null  object\n",
      "dtypes: int64(3), object(4)\n",
      "memory usage: 14.1+ MB\n"
     ]
    }
   ],
   "source": [
    "df.info()"
   ]
  },
  {
   "cell_type": "code",
   "execution_count": 15,
   "metadata": {},
   "outputs": [],
   "source": [
    "df_limpio = df.dropna()"
   ]
  },
  {
   "cell_type": "code",
   "execution_count": 16,
   "metadata": {},
   "outputs": [],
   "source": [
    "df_limpio = df_limpio.drop_duplicates()"
   ]
  },
  {
   "cell_type": "code",
   "execution_count": 17,
   "metadata": {},
   "outputs": [
    {
     "data": {
      "text/plain": [
       "_id                  0\n",
       "app_id               0\n",
       "app_name             0\n",
       "review_text          0\n",
       "review_score         0\n",
       "review_votes         0\n",
       "source_collection    0\n",
       "dtype: int64"
      ]
     },
     "execution_count": 17,
     "metadata": {},
     "output_type": "execute_result"
    }
   ],
   "source": [
    "df_limpio.isnull().sum()"
   ]
  },
  {
   "cell_type": "code",
   "execution_count": 18,
   "metadata": {},
   "outputs": [
    {
     "data": {
      "text/html": [
       "<div>\n",
       "<style scoped>\n",
       "    .dataframe tbody tr th:only-of-type {\n",
       "        vertical-align: middle;\n",
       "    }\n",
       "\n",
       "    .dataframe tbody tr th {\n",
       "        vertical-align: top;\n",
       "    }\n",
       "\n",
       "    .dataframe thead th {\n",
       "        text-align: right;\n",
       "    }\n",
       "</style>\n",
       "<table border=\"1\" class=\"dataframe\">\n",
       "  <thead>\n",
       "    <tr style=\"text-align: right;\">\n",
       "      <th></th>\n",
       "      <th>_id</th>\n",
       "      <th>app_id</th>\n",
       "      <th>app_name</th>\n",
       "      <th>review_text</th>\n",
       "      <th>review_score</th>\n",
       "      <th>review_votes</th>\n",
       "      <th>source_collection</th>\n",
       "    </tr>\n",
       "  </thead>\n",
       "  <tbody>\n",
       "    <tr>\n",
       "      <th>0</th>\n",
       "      <td>678af41b739a5276fd7f7e8e</td>\n",
       "      <td>730</td>\n",
       "      <td>Counter-Strike 2</td>\n",
       "      <td>Pretty good game all around.\\nGreat game! I wo...</td>\n",
       "      <td>1</td>\n",
       "      <td>0</td>\n",
       "      <td>cs2_reviews</td>\n",
       "    </tr>\n",
       "    <tr>\n",
       "      <th>1</th>\n",
       "      <td>678af41b739a5276fd7f7e8f</td>\n",
       "      <td>730</td>\n",
       "      <td>Counter-Strike 2</td>\n",
       "      <td>haha smiriva me\\n</td>\n",
       "      <td>1</td>\n",
       "      <td>0</td>\n",
       "      <td>cs2_reviews</td>\n",
       "    </tr>\n",
       "    <tr>\n",
       "      <th>2</th>\n",
       "      <td>678af41b739a5276fd7f7e90</td>\n",
       "      <td>730</td>\n",
       "      <td>Counter-Strike 2</td>\n",
       "      <td>full of cheaterts roblox has better anti cheat</td>\n",
       "      <td>0</td>\n",
       "      <td>0</td>\n",
       "      <td>cs2_reviews</td>\n",
       "    </tr>\n",
       "    <tr>\n",
       "      <th>3</th>\n",
       "      <td>678af41b739a5276fd7f7e91</td>\n",
       "      <td>730</td>\n",
       "      <td>Counter-Strike 2</td>\n",
       "      <td>Good game, kinda racist but good.</td>\n",
       "      <td>1</td>\n",
       "      <td>0</td>\n",
       "      <td>cs2_reviews</td>\n",
       "    </tr>\n",
       "    <tr>\n",
       "      <th>4</th>\n",
       "      <td>678af41b739a5276fd7f7e92</td>\n",
       "      <td>730</td>\n",
       "      <td>Counter-Strike 2</td>\n",
       "      <td>mrazq rusnacite ama ovr stava</td>\n",
       "      <td>1</td>\n",
       "      <td>0</td>\n",
       "      <td>cs2_reviews</td>\n",
       "    </tr>\n",
       "  </tbody>\n",
       "</table>\n",
       "</div>"
      ],
      "text/plain": [
       "                        _id  app_id          app_name  \\\n",
       "0  678af41b739a5276fd7f7e8e     730  Counter-Strike 2   \n",
       "1  678af41b739a5276fd7f7e8f     730  Counter-Strike 2   \n",
       "2  678af41b739a5276fd7f7e90     730  Counter-Strike 2   \n",
       "3  678af41b739a5276fd7f7e91     730  Counter-Strike 2   \n",
       "4  678af41b739a5276fd7f7e92     730  Counter-Strike 2   \n",
       "\n",
       "                                         review_text  review_score  \\\n",
       "0  Pretty good game all around.\\nGreat game! I wo...             1   \n",
       "1                                  haha smiriva me\\n             1   \n",
       "2     full of cheaterts roblox has better anti cheat             0   \n",
       "3                  Good game, kinda racist but good.             1   \n",
       "4                      mrazq rusnacite ama ovr stava             1   \n",
       "\n",
       "   review_votes source_collection  \n",
       "0             0       cs2_reviews  \n",
       "1             0       cs2_reviews  \n",
       "2             0       cs2_reviews  \n",
       "3             0       cs2_reviews  \n",
       "4             0       cs2_reviews  "
      ]
     },
     "execution_count": 18,
     "metadata": {},
     "output_type": "execute_result"
    }
   ],
   "source": [
    "df_limpio.head()"
   ]
  },
  {
   "cell_type": "code",
   "execution_count": null,
   "metadata": {},
   "outputs": [],
   "source": []
  }
 ],
 "metadata": {
  "kernelspec": {
   "display_name": "Python 3",
   "language": "python",
   "name": "python3"
  },
  "language_info": {
   "codemirror_mode": {
    "name": "ipython",
    "version": 3
   },
   "file_extension": ".py",
   "mimetype": "text/x-python",
   "name": "python",
   "nbconvert_exporter": "python",
   "pygments_lexer": "ipython3",
   "version": "3.13.1"
  }
 },
 "nbformat": 4,
 "nbformat_minor": 2
}
